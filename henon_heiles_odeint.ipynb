{
  "nbformat": 4,
  "nbformat_minor": 0,
  "metadata": {
    "colab": {
      "private_outputs": true,
      "provenance": [],
      "authorship_tag": "ABX9TyP1o1BYth6qYG3J3EOa9DMT",
      "include_colab_link": true
    },
    "kernelspec": {
      "name": "python3",
      "display_name": "Python 3"
    },
    "language_info": {
      "name": "python"
    }
  },
  "cells": [
    {
      "cell_type": "markdown",
      "metadata": {
        "id": "view-in-github",
        "colab_type": "text"
      },
      "source": [
        "<a href=\"https://colab.research.google.com/github/tayfununal/hamiltonian/blob/main/henon_heiles_odeint.ipynb\" target=\"_parent\"><img src=\"https://colab.research.google.com/assets/colab-badge.svg\" alt=\"Open In Colab\"/></a>"
      ]
    },
    {
      "cell_type": "code",
      "execution_count": null,
      "metadata": {
        "id": "XGbBjQjrChDl"
      },
      "outputs": [],
      "source": [
        "from scipy import integrate\n",
        "import numpy as np"
      ]
    },
    {
      "cell_type": "code",
      "source": [
        "def hh_odeint(initial_point, t, h):\n",
        "\n",
        "    def derivative(X, t):\n",
        "        x, y, p_x, p_y = X\n",
        "        \n",
        "        dx = p_x\n",
        "        dy = p_y\n",
        "\n",
        "        dp_x = -(x + 2*x*y)\n",
        "        dp_y = -(y + x**2 - y**2)\n",
        "\n",
        "        return np.array([dx, dy, dp_x, dp_y])\n",
        "\n",
        "    t = np.arange(t[0], t[1], h)\n",
        "    res = integrate.odeint(derivative, initial_point, t)\n",
        "    return res"
      ],
      "metadata": {
        "id": "hjdB3ojNCkWQ"
      },
      "execution_count": null,
      "outputs": []
    },
    {
      "cell_type": "code",
      "source": [
        "\"\"\"\n",
        "res = hh_odeint(initial_point=[0.3, -0.3, 0.3, 0.15], t=[0., 6*np.math.pi], h=0.001)\n",
        "import matplotlib.pyplot as plt\n",
        "plt.plot(res[:,0], res[:,1])\n",
        "\"\"\""
      ],
      "metadata": {
        "id": "xACA2Tz_DVex"
      },
      "execution_count": null,
      "outputs": []
    },
    {
      "cell_type": "code",
      "source": [],
      "metadata": {
        "id": "o6AhNfr6Ellg"
      },
      "execution_count": null,
      "outputs": []
    }
  ]
}