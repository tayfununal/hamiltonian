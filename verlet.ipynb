{
  "nbformat": 4,
  "nbformat_minor": 0,
  "metadata": {
    "colab": {
      "private_outputs": true,
      "provenance": [],
      "authorship_tag": "ABX9TyOmvqjsKJdKEyZP+4neE8S+",
      "include_colab_link": true
    },
    "kernelspec": {
      "name": "python3",
      "display_name": "Python 3"
    },
    "language_info": {
      "name": "python"
    }
  },
  "cells": [
    {
      "cell_type": "markdown",
      "metadata": {
        "id": "view-in-github",
        "colab_type": "text"
      },
      "source": [
        "<a href=\"https://colab.research.google.com/github/tayfununal/hamiltonian/blob/main/verlet.ipynb\" target=\"_parent\"><img src=\"https://colab.research.google.com/assets/colab-badge.svg\" alt=\"Open In Colab\"/></a>"
      ]
    },
    {
      "cell_type": "code",
      "source": [
        "#verlet\n",
        "import numpy as np\n",
        "import matplotlib.pyplot as plt\n",
        "\n",
        "plt.style.use('seaborn-poster')"
      ],
      "metadata": {
        "id": "JxI2-moK9dcZ"
      },
      "execution_count": null,
      "outputs": []
    },
    {
      "cell_type": "code",
      "execution_count": null,
      "metadata": {
        "id": "z4-ySD6H9KqX"
      },
      "outputs": [],
      "source": [
        "def verlet(initial_point=[0., 1.], t_interval=[0.,2*np.math.pi], h=20):\n",
        "  t = np.linspace(t_interval[0], t_interval[1], h)\n",
        "  h = t[1] - t[0]\n",
        "\n",
        "  q = np.zeros(t.shape[0])\n",
        "  p = np.zeros(t.shape[0])\n",
        "\n",
        "  q[0] = initial_point[0]\n",
        "  p[0] = initial_point[1]\n",
        "  \n",
        "  for i in range(0 ,t.shape[0]-1):\n",
        "    ara_p = p[i] - h/2 * q[i]\n",
        "\n",
        "    q[i+1] = q[i] + h * (p[i] - h/2 * q[i])\n",
        "\n",
        "    p[i+1] = ara_p - h/2 * (q[i] + h * (p[i] - h/2 * q[i]))\n",
        "  \n",
        "  z = np.concatenate((q.reshape(-1,1), p.reshape(-1,1)) , axis=1)\n",
        "  return z, t, t_interval, initial_point, h"
      ]
    },
    {
      "cell_type": "code",
      "source": [
        "\"\"\"\n",
        "z, t = verlet()\n",
        "\n",
        "def grand_truth_plot(h = 30):\n",
        "  t = np.linspace(0,2*np.pi,h)\n",
        "  q = np.sin(t)\n",
        "  p = np.cos(t)\n",
        "  plt.scatter(q,p)\n",
        "\n",
        "def pred_plot(q, p):\n",
        "  plt.plot(q[:, ], p[:,], c = \"red\")\n",
        "  plt.xlabel('q')\n",
        "  plt.ylabel('p')\n",
        "\n",
        "plt.figure(figsize = (4, 4))\n",
        "\n",
        "pred_plot(q=z[:,0], p=z[:,1])\n",
        "\n",
        "grand_truth_plot()\n",
        "plt.show()\n",
        "\"\"\""
      ],
      "metadata": {
        "id": "u3tQbFBR9ssw"
      },
      "execution_count": null,
      "outputs": []
    },
    {
      "cell_type": "code",
      "source": [],
      "metadata": {
        "id": "WxmplhJOBiBe"
      },
      "execution_count": null,
      "outputs": []
    }
  ]
}