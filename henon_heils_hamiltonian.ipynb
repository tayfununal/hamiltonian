{
  "cells": [
    {
      "cell_type": "code",
      "execution_count": 7,
      "metadata": {
        "id": "21ZZvO674ky6"
      },
      "outputs": [],
      "source": [
        "# Required packages\n",
        "\n",
        "import numpy as np\n",
        "import matplotlib.pyplot as plt\n",
        "\n",
        "import tensorflow as tf\n",
        "from tensorflow.keras import Input, Model\n",
        "from tensorflow.keras.layers import Dense\n",
        "\n",
        "plt.style.use('seaborn-poster')"
      ]
    },
    {
      "cell_type": "code",
      "execution_count": 8,
      "metadata": {
        "id": "g5qG7TEE4ky7"
      },
      "outputs": [],
      "source": [
        "class hh_Hamiltonian:\n",
        "    \"Energy preserved neural network\"\n",
        "    def __init__(self, solver, input_dim, output_dim, hidden_layer, each_neuron, activation_func, epoch,\n",
        "                     batch_size, learning_rate, h_for_t_created):\n",
        "        \n",
        "        self.T, self.V, self.z, self.t, self.t_interval, self.initial_point, self.h = solver\n",
        "\n",
        "        # Neural Network Model with MSE Loss\n",
        "        self.model = self.NN(inputs =input_dim, output=output_dim, hidden_layer=hidden_layer, neuron=each_neuron,\n",
        "                                     activation=activation_func)\n",
        "        self.model_train = self.train(model=self.model, inputs=self.t, target=self.z, learning_rate=learning_rate,\n",
        "                                    batch_size=batch_size, epochs=epoch)\n",
        "        \n",
        "        #Neural Network Model with Energy Preserved Loss\n",
        "        \n",
        "        self.energy_model = self.NN(inputs= input_dim,output=output_dim, hidden_layer=hidden_layer, neuron=each_neuron,\n",
        "                                        activation=activation_func)\n",
        "\n",
        "        # Parametreleri atama ve veri arttırma\n",
        "        self.energy_model.set_weights(self.model_train.get_weights())\n",
        "        t_created = np.linspace(float(self.t_interval[0]), float(self.t_interval[1]), h_for_t_created)\n",
        "        target_created = self.model_train(t_created)\n",
        "        \n",
        "        self.energy_model_train = self.train(model=self.energy_model, inputs=t_created, target=target_created,\n",
        "                                             learning_rate=learning_rate, loss=self.custom_loss, batch_size=batch_size,\n",
        "                                             epochs=epoch)\n",
        "    \n",
        "    # Hamiltonian function\n",
        "    def H(self, T, V, x, y, px, py):\n",
        "        return T(px, py) + V(x, y)\n",
        "\n",
        "    # Neural network with MSE loss\n",
        "    def NN(self, inputs, output, hidden_layer, neuron, activation=\"relu\"):\n",
        "        #np.random.seed(1)\n",
        "        #tf.random.set_seed(1)\n",
        "        \n",
        "        inp = Input(shape=(inputs,), name= \"Input_Layer\")\n",
        "        for i in range(0, hidden_layer):\n",
        "            if i == 0:\n",
        "                x = Dense(neuron, activation=activation, kernel_regularizer='l1', name=\"Hidden_Layer_{}\".format(i+1))(inp)\n",
        "            else:\n",
        "                x = Dense(neuron, activation=activation, kernel_regularizer='l1', name=\"Hidden_Layer_{}\".format(i+1))(x)\n",
        "        x = Dense(output, name=\"Output_Layer\")(x)\n",
        "\n",
        "        out = tf.constant([np.array(self.initial_point)],\n",
        "                              dtype=tf.float32) + (1-tf.math.exp(-inp**2)) * x\n",
        "\n",
        "        return Model(inputs=inp, outputs=out)\n",
        "\n",
        "    # Neural Network Model Compile and Fit\n",
        "    def train(self, model, inputs, target, learning_rate=0.0003, loss=\"mse\", batch_size=32, epochs=1000):\n",
        "        \n",
        "        opt = tf.keras.optimizers.Adam(learning_rate=learning_rate)\n",
        "        model.compile(optimizer=opt, loss=loss)\n",
        "        model.fit(x=inputs, y=target, epochs=epochs, batch_size=batch_size, shuffle=True, verbose=True)\n",
        "        \n",
        "        return model\n",
        "\n",
        "    def custom_loss(self, y_true, y_pred):\n",
        "        return tf.keras.losses.MSE(self.H(self.T, self.V, self.initial_point[0],self.initial_point[1], self.initial_point[2], self.initial_point[3]),\n",
        "                self.H(self.T, self.V, y_pred[None,:,0], y_pred[None, :,1], y_pred[None, :,2], y_pred[None, :,3])) +  0.001 * tf.keras.losses.MSE(y_true,y_pred)\n"
      ]
    }
  ],
  "metadata": {
    "kernelspec": {
      "display_name": "Python 3.10.5 64-bit",
      "language": "python",
      "name": "python3"
    },
    "language_info": {
      "codemirror_mode": {
        "name": "ipython",
        "version": 3
      },
      "file_extension": ".py",
      "mimetype": "text/x-python",
      "name": "python",
      "nbconvert_exporter": "python",
      "pygments_lexer": "ipython3",
      "version": "3.10.5"
    },
    "orig_nbformat": 4,
    "vscode": {
      "interpreter": {
        "hash": "d9cb76912a2c5be82dcfe6128b100f744e99764f9edd0e9b558a5e3f5600e50b"
      }
    },
    "colab": {
      "provenance": []
    }
  },
  "nbformat": 4,
  "nbformat_minor": 0
}