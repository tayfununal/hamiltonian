{
  "cells": [
    {
      "cell_type": "code",
      "execution_count": null,
      "metadata": {
        "id": "m9PGXDqpN6Mq"
      },
      "outputs": [],
      "source": [
        "import numpy as np\n",
        "import tensorflow as tf"
      ]
    },
    {
      "cell_type": "code",
      "execution_count": null,
      "metadata": {
        "id": "GUV0bP_dN6Ms"
      },
      "outputs": [],
      "source": [
        "def henon_heiles_symplectic_euler(T, V, initial_point=[0., 0., 0., 0.], t_interval=[0.,6*np.math.pi], h=6*np.math.pi/501):\n",
        "\n",
        "    t = np.linspace(t_interval[0], t_interval[1], h)\n",
        "    h = t[1]-t[0]\n",
        "    \n",
        "    px = np.zeros(t.shape[0])\n",
        "    py = np.zeros(t.shape[0])\n",
        "    x = np.zeros(t.shape[0])\n",
        "    y = np.zeros(t.shape[0])\n",
        "\n",
        "    x[0] = initial_point[0]\n",
        "    y[0] = initial_point[1]\n",
        "    px[0] = initial_point[2]\n",
        "    py[0] = initial_point[3]\n",
        "  \n",
        "    def dT(px_0=tf.constant(1.0), py_0=tf.constant(1.0)):\n",
        "        px_0 = tf.constant(px_0)\n",
        "        py_0 = tf.constant(py_0)\n",
        "        with tf.GradientTape() as g:\n",
        "            g.watch(px_0)\n",
        "            g.watch(py_0)\n",
        "            y = T(px_0, py_0)\n",
        "        return g.gradient(y, [px_0, py_0])\n",
        "\n",
        "    def dV(x_0=tf.constant(1.0), y_0=tf.constant(1.0)):\n",
        "        x_0 = tf.constant(x_0)\n",
        "        y_0 = tf.constant(y_0)\n",
        "        with tf.GradientTape() as g:\n",
        "            g.watch(x_0)\n",
        "            g.watch(y_0)\n",
        "            y = V(x_0,y_0)\n",
        "        return g.gradient(y, [x_0,y_0])\n",
        "    for i in range(0, t.shape[0]-1):\n",
        "\n",
        "        x[i + 1] = x[i] + h * dT(px[i], py[i])[0]\n",
        "        y[i + 1] = y[i] + h * dT(px[i], py[i])[1]\n",
        "\n",
        "        px[i + 1] = px[i] - h * dV(x[i+1], y[i+1])[0]\n",
        "        py[i + 1] = py[i] - h * dV(x[i+1], y[i+1])[1]\n",
        "  \n",
        "    z = np.concatenate((x.reshape(-1,1), y.reshape(-1,1), px.reshape(-1,1), py.reshape(-1,1)) , axis=1)\n",
        "    z = z + tf.random.normal(z.shape, mean = 0, stddev=0.005, dtype=tf.float32)\n",
        "    return T, V, z, t, t_interval, initial_point, h"
      ]
    },
    {
      "cell_type": "code",
      "execution_count": null,
      "metadata": {
        "id": "68lo_mrWN6Mt"
      },
      "outputs": [],
      "source": []
    }
  ],
  "metadata": {
    "kernelspec": {
      "display_name": "Python 3.10.5 64-bit",
      "language": "python",
      "name": "python3"
    },
    "language_info": {
      "codemirror_mode": {
        "name": "ipython",
        "version": 3
      },
      "file_extension": ".py",
      "mimetype": "text/x-python",
      "name": "python",
      "nbconvert_exporter": "python",
      "pygments_lexer": "ipython3",
      "version": "3.10.5"
    },
    "orig_nbformat": 4,
    "vscode": {
      "interpreter": {
        "hash": "d9cb76912a2c5be82dcfe6128b100f744e99764f9edd0e9b558a5e3f5600e50b"
      }
    },
    "colab": {
      "provenance": []
    }
  },
  "nbformat": 4,
  "nbformat_minor": 0
}